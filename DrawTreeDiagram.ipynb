{
 "cells": [
  {
   "cell_type": "markdown",
   "metadata": {},
   "source": [
    "# Draw Tree Diagram\n",
    "\n",
    "Last Edit: 3/3/17\n",
    "\n",
    "This script is designed to generate a tree diagram with nodes that the user inputs. This feature is meant to compliment the visualize flux diagram script by allowing the user to specify the network for use in analyzing complex mechanisms in conjunction with the Mechanism Analyzer script. "
   ]
  },
  {
   "cell_type": "markdown",
   "metadata": {},
   "source": [
    "## Import Necessary Modules"
   ]
  },
  {
   "cell_type": "code",
   "execution_count": 1,
   "metadata": {
    "collapsed": false
   },
   "outputs": [],
   "source": [
    "import pydot\n",
    "import os\n",
    "from IPython.display import Image\n",
    "\n",
    "from rmgpy.rmg.model import CoreEdgeReactionModel\n",
    "from rmgpy.chemkin import loadChemkinFile\n",
    "from rmgpy.chemkin import getSpeciesIdentifier"
   ]
  },
  {
   "cell_type": "markdown",
   "metadata": {},
   "source": [
    "## User Input: File Paths"
   ]
  },
  {
   "cell_type": "code",
   "execution_count": null,
   "metadata": {
    "collapsed": true
   },
   "outputs": [],
   "source": [
    "########## INPUT ##########\n",
    "CurrentWorkingDirectory='/home/mark/RMG/Mark_RMG/DrawTreeDiagram/' # MUST BE THE FULL PATH \n",
    "ChemkinFilePath='../chem.inp'\n",
    "SpeciesDictionaryPath='../species_dictionary.txt'\n",
    "MoleculesOutputPath='../Molecules/'\n",
    "GraphDictionaryFile='../GraphDictionary.txt'\n",
    "graphFile='../FluxDiagram.png'\n",
    "###########################"
   ]
  },
  {
   "cell_type": "markdown",
   "metadata": {},
   "source": [
    "## Load Chemkin and Species Dictionary Files"
   ]
  },
  {
   "cell_type": "code",
   "execution_count": null,
   "metadata": {
    "collapsed": false
   },
   "outputs": [],
   "source": [
    "model = CoreEdgeReactionModel()\n",
    "model.core.species, model.core.reactions = loadChemkinFile(ChemkinFilePath,SpeciesDictionaryPath)\n",
    "\n",
    "# Create species_identifier_didct for the core species    \n",
    "species_identifier_dict = {}\n",
    "for i, s in enumerate(model.core.species):\n",
    "    species_identifier_dict.update({getSpeciesIdentifier(model.core.species[i]): s})"
   ]
  },
  {
   "cell_type": "markdown",
   "metadata": {},
   "source": [
    "## Initialize Graph"
   ]
  },
  {
   "cell_type": "code",
   "execution_count": null,
   "metadata": {
    "collapsed": false
   },
   "outputs": [],
   "source": [
    "def newgraph():\n",
    "    graph=pydot.Dot('flux_diagram',graph_type='digraph', overlap='flase')\n",
    "    #graph.set_rankdir('LR')  # Uncomment if you want graph to flow from left to right\n",
    "    graph.set_fontname('sans')\n",
    "    graph.set_fontsize('10')\n",
    "    return graph\n",
    "graph=newgraph()\n",
    "nodeList=[]\n",
    "myGraphDictionary={}"
   ]
  },
  {
   "cell_type": "markdown",
   "metadata": {},
   "source": [
    "## Define Necessary Functions"
   ]
  },
  {
   "cell_type": "code",
   "execution_count": null,
   "metadata": {
    "collapsed": true
   },
   "outputs": [],
   "source": [
    "def loadDictionaryGraph(dictionary):\n",
    "    newnodelist=[]\n",
    "    for s in dictionary:\n",
    "        T=''\n",
    "        F=''\n",
    "        Flux=dictionary[s]\n",
    "        x=0\n",
    "        for i in s:\n",
    "            if i=='&':\n",
    "                F=s[x+1:]\n",
    "                break\n",
    "            T=T+i\n",
    "            x=x+1\n",
    "        newnodelist=addFlux(T,F,Flux,newnodelist)\n",
    "        \n",
    "    dictionaryfile=open(GraphDictionaryFile,'a')\n",
    "    dictionaryfile.write(str(myGraphDictionary)+'\\n'+'\\n')\n",
    "    dictionaryfile.close()\n",
    "    \n",
    "    return newnodelist\n",
    "        \n",
    "def addFlux(ToSpecies,FromSpecies,Flux,nodeList):\n",
    "    Units='mol'\n",
    "    \n",
    "    if FromSpecies not in nodeList:\n",
    "        nodeList=nodeList+[FromSpecies]\n",
    "        PicturePath=os.path.join(CurrentWorkingDirectory,MoleculesOutputPath,FromSpecies+'.png')\n",
    "        species_identifier_dict[FromSpecies].molecule[0].draw(PicturePath)\n",
    "        nodeLabel = \"<<TABLE border='0'><TR><TD><IMG SRC='{0}'/></TD></TR></TABLE>>\".format(PicturePath)\n",
    "        graph.add_node(pydot.Node(FromSpecies, label=nodeLabel))\n",
    "                                                              \n",
    "                                                              \n",
    "                                                              \n",
    "    if ToSpecies not in nodeList:\n",
    "        nodeList=nodeList+[ToSpecies]\n",
    "        PicturePath=os.path.join(CurrentWorkingDirectory,MoleculesOutputPath,ToSpecies+'.png')\n",
    "        species_identifier_dict[ToSpecies].molecule[0].draw(PicturePath)\n",
    "        nodeLabel = \"<<TABLE border='0'><TR><TD><IMG SRC='{0}'/></TD></TR></TABLE>>\".format(PicturePath)\n",
    "        graph.add_node(pydot.Node(ToSpecies, label=nodeLabel))\n",
    "        \n",
    "    graph.add_edge(pydot.Edge(FromSpecies,ToSpecies, label=Flux+'\\n'+Units))\n",
    "    return nodeList\n",
    "\n",
    "    \n",
    "def UpdateGraphDictionary(ToSpecies,FromSpecies,Flux,myGraphDictionary):\n",
    "    myGraphDictionary.update({ToSpecies+'&'+FromSpecies:Flux})\n",
    "    dictionaryfile=open(GraphDictionaryFile,'a')\n",
    "    dictionaryfile.write(str(myGraphDictionary)+'\\n'+'\\n')\n",
    "    dictionaryfile.close()\n",
    "    return myGraphDictionary\n",
    "        "
   ]
  },
  {
   "cell_type": "markdown",
   "metadata": {},
   "source": [
    "# Functionality 1: Add Species/Flux to Diagram\n",
    "\n",
    "To a flux from one species to another on the diagram, enter the name of the species exactly as they appear in the species_dictionary.txt file as a string, then enter the flux in moles (or change the units in the addFlux function)."
   ]
  },
  {
   "cell_type": "code",
   "execution_count": null,
   "metadata": {
    "collapsed": false
   },
   "outputs": [],
   "source": [
    "####### INPUT #########\n",
    "FromSpecies='PDD(1)'\n",
    "ToSpecies='C7(32)'\n",
    "Flux=str('{:0.3e}'.format(9.459E-8))\n",
    "#######################\n",
    "\n",
    "nodeList=addFlux(ToSpecies,FromSpecies,Flux,nodeList)\n",
    "myGraphDictionary=UpdateGraphDictionary(ToSpecies,FromSpecies,Flux,myGraphDictionary)\n",
    "graph.write_png(graphFile)\n",
    "Image(graphFile)\n"
   ]
  },
  {
   "cell_type": "markdown",
   "metadata": {},
   "source": [
    "# Functionality 2: Remove a Flux from the Diagram"
   ]
  },
  {
   "cell_type": "code",
   "execution_count": null,
   "metadata": {
    "collapsed": false
   },
   "outputs": [],
   "source": [
    "########### INPUT #############\n",
    "ToSpecies='C8(33)'\n",
    "FromSpecies='PDD(1)'\n",
    "###############################\n",
    "\n",
    "\n",
    "del myGraphDictionary[ToSpecies+'&'+FromSpecies]\n",
    "\n",
    "\n",
    "graph=newgraph()\n",
    "nodeList=loadDictionaryGraph(myGraphDictionary)\n",
    "graph.write_png(graphFile)\n",
    "Image(graphFile)\n"
   ]
  },
  {
   "cell_type": "markdown",
   "metadata": {},
   "source": [
    "# Functionality 3: Load Graph from Graph Dictionary\n",
    "\n",
    "If the graph was made using this script, a graph dictionary is stored in the GraphDictionaryFile specified in file paths. Each time you update the graph it appends the new graph dictionary to this file. To load a graph simply copy the desired graph dictionary into the input below and run."
   ]
  },
  {
   "cell_type": "code",
   "execution_count": null,
   "metadata": {
    "collapsed": false
   },
   "outputs": [],
   "source": [
    "########## INPUT ##########\n",
    "myGraphDictionary={'C8(33)&ETHBENZ(4)': '1.192e-08', 'C8(33)&S(42583)': '1.948e-08', 'OCTYL(54)&C11H23(97)': '3.084e-05', 'C8ene(43)&C8(33)': '9.459e-08', 'C8(33)&S(1253)': '2.927e-08', 'S(1254)&C8(33)': '2.26e-07', 'OCTYL(54)&C8(33)': '3.34e-05'}\n",
    "###########################\n",
    "\n",
    "graph=newgraph()\n",
    "nodeList=loadDictionaryGraph(myGraphDictionary)\n",
    "graph.write_png(graphFile)\n",
    "Image(graphFile)"
   ]
  }
 ],
 "metadata": {
  "kernelspec": {
   "display_name": "Python 2",
   "language": "python",
   "name": "python2"
  },
  "language_info": {
   "codemirror_mode": {
    "name": "ipython",
    "version": 2
   },
   "file_extension": ".py",
   "mimetype": "text/x-python",
   "name": "python",
   "nbconvert_exporter": "python",
   "pygments_lexer": "ipython2",
   "version": "2.7.13"
  }
 },
 "nbformat": 4,
 "nbformat_minor": 2
}
